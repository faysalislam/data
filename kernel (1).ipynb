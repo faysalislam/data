{
  "cells": [
    {
      "metadata": {
        "_uuid": "2f01adf92ff29fd163cf431b32a9803d28ab0d69"
      },
      "cell_type": "markdown",
      "source": "# Data Mining 2 Project\n\nTo do:\n1. Figure out how to get one table into a data frame: DONE\n2. Save the data frame to CSV file: DONE\n3. Examine the list of lists: DONE\n4. Identify columns to remove\n5. Build new query excluding unwanted columns\n6. Start downloading data to CSV\n\n==\nExamine assumptions required for statistical modeling plan:\n- Pros of planned methods\n- Cons of planned methods\n"
    },
    {
      "metadata": {
        "_uuid": "de5c8ef6d5d0ee22ec7e55b629d1c1f08d2b8efd",
        "_cell_guid": "307eb20a-56a5-43b9-832b-a76b338ad5e3"
      },
      "cell_type": "markdown",
      "source": "## Get Access To the Data and set up libaries"
    },
    {
      "metadata": {
        "_uuid": "8f2839f25d086af736a60e9eeb907d3b93b6e0e5",
        "_cell_guid": "b1076dfc-b9ad-4769-8c92-a6c4dae69d19",
        "trusted": true
      },
      "cell_type": "code",
      "source": "import bq_helper\nimport pandas as pd\nimport os\n#from bq_helper import BigQueryHelper\n\n# https://www.kaggle.com/sohier/introduction-to-the-bq-helper-package\n# https://github.com/SohierDane/BigQuery_Helper/blob/master/bq_helper.py\n\n# Establish Helper Object for data scanning\ngoogle_analytics = bq_helper.BigQueryHelper(active_project=\"bigquery-public-data\",\n                                   dataset_name=\"google_analytics_sample\")\n\n# Another example of how to get the data\n# bq_assistant = BigQueryHelper(\"bigquery-public-data\", \"google_analytics_sample\")\n\n# Create list of tables to later assist with queries\ntablelist = google_analytics.list_tables()\nprint(len(tablelist))\nprint(\"First table:\", tablelist[0],\"  Last table:\", tablelist[-1])",
      "execution_count": 1,
      "outputs": [
        {
          "output_type": "stream",
          "text": "366\nFirst table: ga_sessions_20160801   Last table: ga_sessions_20170801\n",
          "name": "stdout"
        }
      ]
    },
    {
      "metadata": {
        "_uuid": "0cfd0c53d4d463b5dffc706cefaa8cd907a0546d"
      },
      "cell_type": "markdown",
      "source": "The above table list confirms that the data start at August 1, 2016 (20160801) and end at August 1, 2017 (20170801)\n\nNow examine the overall structure of a table"
    },
    {
      "metadata": {
        "_uuid": "f6d79a4aae694e0bc61d4dbc4724005d913b9248",
        "_cell_guid": "a2805b6e-5e32-484c-b1c7-a7e3d364ef35",
        "trusted": true,
        "scrolled": false
      },
      "cell_type": "code",
      "source": "print(\"Table ID:\", tablelist[0])\nprint(google_analytics.head(tablelist[0]).columns)\ngoogle_analytics.head(tablelist[0], num_rows=3)",
      "execution_count": 2,
      "outputs": [
        {
          "output_type": "stream",
          "text": "Table ID: ga_sessions_20160801\nIndex(['visitorId', 'visitNumber', 'visitId', 'visitStartTime', 'date',\n       'totals', 'trafficSource', 'device', 'geoNetwork', 'customDimensions',\n       'hits', 'fullVisitorId', 'userId', 'channelGrouping',\n       'socialEngagementType'],\n      dtype='object')\n",
          "name": "stdout"
        },
        {
          "output_type": "execute_result",
          "execution_count": 2,
          "data": {
            "text/plain": "  visitorId          ...           socialEngagementType\n0      None          ...           Not Socially Engaged\n1      None          ...           Not Socially Engaged\n2      None          ...           Not Socially Engaged\n\n[3 rows x 15 columns]",
            "text/html": "<div>\n<style scoped>\n    .dataframe tbody tr th:only-of-type {\n        vertical-align: middle;\n    }\n\n    .dataframe tbody tr th {\n        vertical-align: top;\n    }\n\n    .dataframe thead th {\n        text-align: right;\n    }\n</style>\n<table border=\"1\" class=\"dataframe\">\n  <thead>\n    <tr style=\"text-align: right;\">\n      <th></th>\n      <th>visitorId</th>\n      <th>visitNumber</th>\n      <th>visitId</th>\n      <th>visitStartTime</th>\n      <th>date</th>\n      <th>totals</th>\n      <th>trafficSource</th>\n      <th>device</th>\n      <th>geoNetwork</th>\n      <th>customDimensions</th>\n      <th>hits</th>\n      <th>fullVisitorId</th>\n      <th>userId</th>\n      <th>channelGrouping</th>\n      <th>socialEngagementType</th>\n    </tr>\n  </thead>\n  <tbody>\n    <tr>\n      <th>0</th>\n      <td>None</td>\n      <td>1</td>\n      <td>1470117657</td>\n      <td>1470117657</td>\n      <td>20160801</td>\n      <td>{'visits': 1, 'hits': 3, 'pageviews': 3, 'time...</td>\n      <td>{'referralPath': '/yt/about/', 'campaign': '(n...</td>\n      <td>{'browser': 'Internet Explorer', 'browserVersi...</td>\n      <td>{'continent': 'Americas', 'subContinent': 'Nor...</td>\n      <td>[{'index': 4, 'value': 'North America'}]</td>\n      <td>[{'hitNumber': 1, 'time': 0, 'hour': 23, 'minu...</td>\n      <td>7194065619159478122</td>\n      <td>None</td>\n      <td>Social</td>\n      <td>Not Socially Engaged</td>\n    </tr>\n    <tr>\n      <th>1</th>\n      <td>None</td>\n      <td>151</td>\n      <td>1470083489</td>\n      <td>1470083489</td>\n      <td>20160801</td>\n      <td>{'visits': 1, 'hits': 3, 'pageviews': 3, 'time...</td>\n      <td>{'referralPath': '/yt/about/', 'campaign': '(n...</td>\n      <td>{'browser': 'Chrome', 'browserVersion': 'not a...</td>\n      <td>{'continent': 'Americas', 'subContinent': 'Nor...</td>\n      <td>[{'index': 4, 'value': 'North America'}]</td>\n      <td>[{'hitNumber': 1, 'time': 0, 'hour': 13, 'minu...</td>\n      <td>8159312408158297118</td>\n      <td>None</td>\n      <td>Social</td>\n      <td>Not Socially Engaged</td>\n    </tr>\n    <tr>\n      <th>2</th>\n      <td>None</td>\n      <td>1</td>\n      <td>1470052694</td>\n      <td>1470052694</td>\n      <td>20160801</td>\n      <td>{'visits': 1, 'hits': 4, 'pageviews': 3, 'time...</td>\n      <td>{'referralPath': '/yt/about/', 'campaign': '(n...</td>\n      <td>{'browser': 'Chrome', 'browserVersion': 'not a...</td>\n      <td>{'continent': 'Asia', 'subContinent': 'Southea...</td>\n      <td>[]</td>\n      <td>[{'hitNumber': 1, 'time': 0, 'hour': 4, 'minut...</td>\n      <td>9236304747882138291</td>\n      <td>None</td>\n      <td>Social</td>\n      <td>Not Socially Engaged</td>\n    </tr>\n  </tbody>\n</table>\n</div>"
          },
          "metadata": {}
        }
      ]
    },
    {
      "metadata": {
        "trusted": true,
        "scrolled": false,
        "_uuid": "ad3c3ee6a5437b9ee58ce4460d9be2efc4573fb3"
      },
      "cell_type": "code",
      "source": "print(\"Table ID:\", tablelist[0])\ngoogle_analytics.table_schema(tablelist[0])",
      "execution_count": 3,
      "outputs": [
        {
          "output_type": "stream",
          "text": "Table ID: ga_sessions_20160801\n",
          "name": "stdout"
        },
        {
          "output_type": "execute_result",
          "execution_count": 3,
          "data": {
            "text/plain": "[SchemaField('visitorId', 'INTEGER', 'NULLABLE', None, ()),\n SchemaField('visitNumber', 'INTEGER', 'NULLABLE', None, ()),\n SchemaField('visitId', 'INTEGER', 'NULLABLE', None, ()),\n SchemaField('visitStartTime', 'INTEGER', 'NULLABLE', None, ()),\n SchemaField('date', 'STRING', 'NULLABLE', None, ()),\n SchemaField('totals', 'RECORD', 'NULLABLE', None, (SchemaField('visits', 'INTEGER', 'NULLABLE', None, ()), SchemaField('hits', 'INTEGER', 'NULLABLE', None, ()), SchemaField('pageviews', 'INTEGER', 'NULLABLE', None, ()), SchemaField('timeOnSite', 'INTEGER', 'NULLABLE', None, ()), SchemaField('bounces', 'INTEGER', 'NULLABLE', None, ()), SchemaField('transactions', 'INTEGER', 'NULLABLE', None, ()), SchemaField('transactionRevenue', 'INTEGER', 'NULLABLE', None, ()), SchemaField('newVisits', 'INTEGER', 'NULLABLE', None, ()), SchemaField('screenviews', 'INTEGER', 'NULLABLE', None, ()), SchemaField('uniqueScreenviews', 'INTEGER', 'NULLABLE', None, ()), SchemaField('timeOnScreen', 'INTEGER', 'NULLABLE', None, ()), SchemaField('totalTransactionRevenue', 'INTEGER', 'NULLABLE', None, ()), SchemaField('sessionQualityDim', 'INTEGER', 'NULLABLE', None, ()))),\n SchemaField('trafficSource', 'RECORD', 'NULLABLE', None, (SchemaField('referralPath', 'STRING', 'NULLABLE', None, ()), SchemaField('campaign', 'STRING', 'NULLABLE', None, ()), SchemaField('source', 'STRING', 'NULLABLE', None, ()), SchemaField('medium', 'STRING', 'NULLABLE', None, ()), SchemaField('keyword', 'STRING', 'NULLABLE', None, ()), SchemaField('adContent', 'STRING', 'NULLABLE', None, ()), SchemaField('adwordsClickInfo', 'RECORD', 'NULLABLE', None, (SchemaField('campaignId', 'INTEGER', 'NULLABLE', None, ()), SchemaField('adGroupId', 'INTEGER', 'NULLABLE', None, ()), SchemaField('creativeId', 'INTEGER', 'NULLABLE', None, ()), SchemaField('criteriaId', 'INTEGER', 'NULLABLE', None, ()), SchemaField('page', 'INTEGER', 'NULLABLE', None, ()), SchemaField('slot', 'STRING', 'NULLABLE', None, ()), SchemaField('criteriaParameters', 'STRING', 'NULLABLE', None, ()), SchemaField('gclId', 'STRING', 'NULLABLE', None, ()), SchemaField('customerId', 'INTEGER', 'NULLABLE', None, ()), SchemaField('adNetworkType', 'STRING', 'NULLABLE', None, ()), SchemaField('targetingCriteria', 'RECORD', 'NULLABLE', None, (SchemaField('boomUserlistId', 'INTEGER', 'NULLABLE', None, ()),)), SchemaField('isVideoAd', 'BOOLEAN', 'NULLABLE', None, ()))), SchemaField('isTrueDirect', 'BOOLEAN', 'NULLABLE', None, ()), SchemaField('campaignCode', 'STRING', 'NULLABLE', None, ()))),\n SchemaField('device', 'RECORD', 'NULLABLE', None, (SchemaField('browser', 'STRING', 'NULLABLE', None, ()), SchemaField('browserVersion', 'STRING', 'NULLABLE', None, ()), SchemaField('browserSize', 'STRING', 'NULLABLE', None, ()), SchemaField('operatingSystem', 'STRING', 'NULLABLE', None, ()), SchemaField('operatingSystemVersion', 'STRING', 'NULLABLE', None, ()), SchemaField('isMobile', 'BOOLEAN', 'NULLABLE', None, ()), SchemaField('mobileDeviceBranding', 'STRING', 'NULLABLE', None, ()), SchemaField('mobileDeviceModel', 'STRING', 'NULLABLE', None, ()), SchemaField('mobileInputSelector', 'STRING', 'NULLABLE', None, ()), SchemaField('mobileDeviceInfo', 'STRING', 'NULLABLE', None, ()), SchemaField('mobileDeviceMarketingName', 'STRING', 'NULLABLE', None, ()), SchemaField('flashVersion', 'STRING', 'NULLABLE', None, ()), SchemaField('javaEnabled', 'BOOLEAN', 'NULLABLE', None, ()), SchemaField('language', 'STRING', 'NULLABLE', None, ()), SchemaField('screenColors', 'STRING', 'NULLABLE', None, ()), SchemaField('screenResolution', 'STRING', 'NULLABLE', None, ()), SchemaField('deviceCategory', 'STRING', 'NULLABLE', None, ()))),\n SchemaField('geoNetwork', 'RECORD', 'NULLABLE', None, (SchemaField('continent', 'STRING', 'NULLABLE', None, ()), SchemaField('subContinent', 'STRING', 'NULLABLE', None, ()), SchemaField('country', 'STRING', 'NULLABLE', None, ()), SchemaField('region', 'STRING', 'NULLABLE', None, ()), SchemaField('metro', 'STRING', 'NULLABLE', None, ()), SchemaField('city', 'STRING', 'NULLABLE', None, ()), SchemaField('cityId', 'STRING', 'NULLABLE', None, ()), SchemaField('networkDomain', 'STRING', 'NULLABLE', None, ()), SchemaField('latitude', 'STRING', 'NULLABLE', None, ()), SchemaField('longitude', 'STRING', 'NULLABLE', None, ()), SchemaField('networkLocation', 'STRING', 'NULLABLE', None, ()))),\n SchemaField('customDimensions', 'RECORD', 'REPEATED', None, (SchemaField('index', 'INTEGER', 'NULLABLE', None, ()), SchemaField('value', 'STRING', 'NULLABLE', None, ()))),\n SchemaField('hits', 'RECORD', 'REPEATED', None, (SchemaField('hitNumber', 'INTEGER', 'NULLABLE', None, ()), SchemaField('time', 'INTEGER', 'NULLABLE', None, ()), SchemaField('hour', 'INTEGER', 'NULLABLE', None, ()), SchemaField('minute', 'INTEGER', 'NULLABLE', None, ()), SchemaField('isSecure', 'BOOLEAN', 'NULLABLE', None, ()), SchemaField('isInteraction', 'BOOLEAN', 'NULLABLE', None, ()), SchemaField('isEntrance', 'BOOLEAN', 'NULLABLE', None, ()), SchemaField('isExit', 'BOOLEAN', 'NULLABLE', None, ()), SchemaField('referer', 'STRING', 'NULLABLE', None, ()), SchemaField('page', 'RECORD', 'NULLABLE', None, (SchemaField('pagePath', 'STRING', 'NULLABLE', None, ()), SchemaField('hostname', 'STRING', 'NULLABLE', None, ()), SchemaField('pageTitle', 'STRING', 'NULLABLE', None, ()), SchemaField('searchKeyword', 'STRING', 'NULLABLE', None, ()), SchemaField('searchCategory', 'STRING', 'NULLABLE', None, ()), SchemaField('pagePathLevel1', 'STRING', 'NULLABLE', None, ()), SchemaField('pagePathLevel2', 'STRING', 'NULLABLE', None, ()), SchemaField('pagePathLevel3', 'STRING', 'NULLABLE', None, ()), SchemaField('pagePathLevel4', 'STRING', 'NULLABLE', None, ()))), SchemaField('transaction', 'RECORD', 'NULLABLE', None, (SchemaField('transactionId', 'STRING', 'NULLABLE', None, ()), SchemaField('transactionRevenue', 'INTEGER', 'NULLABLE', None, ()), SchemaField('transactionTax', 'INTEGER', 'NULLABLE', None, ()), SchemaField('transactionShipping', 'INTEGER', 'NULLABLE', None, ()), SchemaField('affiliation', 'STRING', 'NULLABLE', None, ()), SchemaField('currencyCode', 'STRING', 'NULLABLE', None, ()), SchemaField('localTransactionRevenue', 'INTEGER', 'NULLABLE', None, ()), SchemaField('localTransactionTax', 'INTEGER', 'NULLABLE', None, ()), SchemaField('localTransactionShipping', 'INTEGER', 'NULLABLE', None, ()), SchemaField('transactionCoupon', 'STRING', 'NULLABLE', None, ()))), SchemaField('item', 'RECORD', 'NULLABLE', None, (SchemaField('transactionId', 'STRING', 'NULLABLE', None, ()), SchemaField('productName', 'STRING', 'NULLABLE', None, ()), SchemaField('productCategory', 'STRING', 'NULLABLE', None, ()), SchemaField('productSku', 'STRING', 'NULLABLE', None, ()), SchemaField('itemQuantity', 'INTEGER', 'NULLABLE', None, ()), SchemaField('itemRevenue', 'INTEGER', 'NULLABLE', None, ()), SchemaField('currencyCode', 'STRING', 'NULLABLE', None, ()), SchemaField('localItemRevenue', 'INTEGER', 'NULLABLE', None, ()))), SchemaField('contentInfo', 'RECORD', 'NULLABLE', None, (SchemaField('contentDescription', 'STRING', 'NULLABLE', None, ()),)), SchemaField('appInfo', 'RECORD', 'NULLABLE', None, (SchemaField('name', 'STRING', 'NULLABLE', None, ()), SchemaField('version', 'STRING', 'NULLABLE', None, ()), SchemaField('id', 'STRING', 'NULLABLE', None, ()), SchemaField('installerId', 'STRING', 'NULLABLE', None, ()), SchemaField('appInstallerId', 'STRING', 'NULLABLE', None, ()), SchemaField('appName', 'STRING', 'NULLABLE', None, ()), SchemaField('appVersion', 'STRING', 'NULLABLE', None, ()), SchemaField('appId', 'STRING', 'NULLABLE', None, ()), SchemaField('screenName', 'STRING', 'NULLABLE', None, ()), SchemaField('landingScreenName', 'STRING', 'NULLABLE', None, ()), SchemaField('exitScreenName', 'STRING', 'NULLABLE', None, ()), SchemaField('screenDepth', 'STRING', 'NULLABLE', None, ()))), SchemaField('exceptionInfo', 'RECORD', 'NULLABLE', None, (SchemaField('description', 'STRING', 'NULLABLE', None, ()), SchemaField('isFatal', 'BOOLEAN', 'NULLABLE', None, ()), SchemaField('exceptions', 'INTEGER', 'NULLABLE', None, ()), SchemaField('fatalExceptions', 'INTEGER', 'NULLABLE', None, ()))), SchemaField('eventInfo', 'RECORD', 'NULLABLE', None, (SchemaField('eventCategory', 'STRING', 'NULLABLE', None, ()), SchemaField('eventAction', 'STRING', 'NULLABLE', None, ()), SchemaField('eventLabel', 'STRING', 'NULLABLE', None, ()), SchemaField('eventValue', 'INTEGER', 'NULLABLE', None, ()))), SchemaField('product', 'RECORD', 'REPEATED', None, (SchemaField('productSKU', 'STRING', 'NULLABLE', None, ()), SchemaField('v2ProductName', 'STRING', 'NULLABLE', None, ()), SchemaField('v2ProductCategory', 'STRING', 'NULLABLE', None, ()), SchemaField('productVariant', 'STRING', 'NULLABLE', None, ()), SchemaField('productBrand', 'STRING', 'NULLABLE', None, ()), SchemaField('productRevenue', 'INTEGER', 'NULLABLE', None, ()), SchemaField('localProductRevenue', 'INTEGER', 'NULLABLE', None, ()), SchemaField('productPrice', 'INTEGER', 'NULLABLE', None, ()), SchemaField('localProductPrice', 'INTEGER', 'NULLABLE', None, ()), SchemaField('productQuantity', 'INTEGER', 'NULLABLE', None, ()), SchemaField('productRefundAmount', 'INTEGER', 'NULLABLE', None, ()), SchemaField('localProductRefundAmount', 'INTEGER', 'NULLABLE', None, ()), SchemaField('isImpression', 'BOOLEAN', 'NULLABLE', None, ()), SchemaField('isClick', 'BOOLEAN', 'NULLABLE', None, ()), SchemaField('customDimensions', 'RECORD', 'REPEATED', None, (SchemaField('index', 'INTEGER', 'NULLABLE', None, ()), SchemaField('value', 'STRING', 'NULLABLE', None, ()))), SchemaField('customMetrics', 'RECORD', 'REPEATED', None, (SchemaField('index', 'INTEGER', 'NULLABLE', None, ()), SchemaField('value', 'INTEGER', 'NULLABLE', None, ()))), SchemaField('productListName', 'STRING', 'NULLABLE', None, ()), SchemaField('productListPosition', 'INTEGER', 'NULLABLE', None, ()))), SchemaField('promotion', 'RECORD', 'REPEATED', None, (SchemaField('promoId', 'STRING', 'NULLABLE', None, ()), SchemaField('promoName', 'STRING', 'NULLABLE', None, ()), SchemaField('promoCreative', 'STRING', 'NULLABLE', None, ()), SchemaField('promoPosition', 'STRING', 'NULLABLE', None, ()))), SchemaField('promotionActionInfo', 'RECORD', 'NULLABLE', None, (SchemaField('promoIsView', 'BOOLEAN', 'NULLABLE', None, ()), SchemaField('promoIsClick', 'BOOLEAN', 'NULLABLE', None, ()))), SchemaField('refund', 'RECORD', 'NULLABLE', None, (SchemaField('refundAmount', 'INTEGER', 'NULLABLE', None, ()), SchemaField('localRefundAmount', 'INTEGER', 'NULLABLE', None, ()))), SchemaField('eCommerceAction', 'RECORD', 'NULLABLE', None, (SchemaField('action_type', 'STRING', 'NULLABLE', None, ()), SchemaField('step', 'INTEGER', 'NULLABLE', None, ()), SchemaField('option', 'STRING', 'NULLABLE', None, ()))), SchemaField('experiment', 'RECORD', 'REPEATED', None, (SchemaField('experimentId', 'STRING', 'NULLABLE', None, ()), SchemaField('experimentVariant', 'STRING', 'NULLABLE', None, ()))), SchemaField('publisher', 'RECORD', 'NULLABLE', None, (SchemaField('dfpClicks', 'INTEGER', 'NULLABLE', None, ()), SchemaField('dfpImpressions', 'INTEGER', 'NULLABLE', None, ()), SchemaField('dfpMatchedQueries', 'INTEGER', 'NULLABLE', None, ()), SchemaField('dfpMeasurableImpressions', 'INTEGER', 'NULLABLE', None, ()), SchemaField('dfpQueries', 'INTEGER', 'NULLABLE', None, ()), SchemaField('dfpRevenueCpm', 'INTEGER', 'NULLABLE', None, ()), SchemaField('dfpRevenueCpc', 'INTEGER', 'NULLABLE', None, ()), SchemaField('dfpViewableImpressions', 'INTEGER', 'NULLABLE', None, ()), SchemaField('dfpPagesViewed', 'INTEGER', 'NULLABLE', None, ()), SchemaField('adsenseBackfillDfpClicks', 'INTEGER', 'NULLABLE', None, ()), SchemaField('adsenseBackfillDfpImpressions', 'INTEGER', 'NULLABLE', None, ()), SchemaField('adsenseBackfillDfpMatchedQueries', 'INTEGER', 'NULLABLE', None, ()), SchemaField('adsenseBackfillDfpMeasurableImpressions', 'INTEGER', 'NULLABLE', None, ()), SchemaField('adsenseBackfillDfpQueries', 'INTEGER', 'NULLABLE', None, ()), SchemaField('adsenseBackfillDfpRevenueCpm', 'INTEGER', 'NULLABLE', None, ()), SchemaField('adsenseBackfillDfpRevenueCpc', 'INTEGER', 'NULLABLE', None, ()), SchemaField('adsenseBackfillDfpViewableImpressions', 'INTEGER', 'NULLABLE', None, ()), SchemaField('adsenseBackfillDfpPagesViewed', 'INTEGER', 'NULLABLE', None, ()), SchemaField('adxBackfillDfpClicks', 'INTEGER', 'NULLABLE', None, ()), SchemaField('adxBackfillDfpImpressions', 'INTEGER', 'NULLABLE', None, ()), SchemaField('adxBackfillDfpMatchedQueries', 'INTEGER', 'NULLABLE', None, ()), SchemaField('adxBackfillDfpMeasurableImpressions', 'INTEGER', 'NULLABLE', None, ()), SchemaField('adxBackfillDfpQueries', 'INTEGER', 'NULLABLE', None, ()), SchemaField('adxBackfillDfpRevenueCpm', 'INTEGER', 'NULLABLE', None, ()), SchemaField('adxBackfillDfpRevenueCpc', 'INTEGER', 'NULLABLE', None, ()), SchemaField('adxBackfillDfpViewableImpressions', 'INTEGER', 'NULLABLE', None, ()), SchemaField('adxBackfillDfpPagesViewed', 'INTEGER', 'NULLABLE', None, ()), SchemaField('adxClicks', 'INTEGER', 'NULLABLE', None, ()), SchemaField('adxImpressions', 'INTEGER', 'NULLABLE', None, ()), SchemaField('adxMatchedQueries', 'INTEGER', 'NULLABLE', None, ()), SchemaField('adxMeasurableImpressions', 'INTEGER', 'NULLABLE', None, ()), SchemaField('adxQueries', 'INTEGER', 'NULLABLE', None, ()), SchemaField('adxRevenue', 'INTEGER', 'NULLABLE', None, ()), SchemaField('adxViewableImpressions', 'INTEGER', 'NULLABLE', None, ()), SchemaField('adxPagesViewed', 'INTEGER', 'NULLABLE', None, ()), SchemaField('adsViewed', 'INTEGER', 'NULLABLE', None, ()), SchemaField('adsUnitsViewed', 'INTEGER', 'NULLABLE', None, ()), SchemaField('adsUnitsMatched', 'INTEGER', 'NULLABLE', None, ()), SchemaField('viewableAdsViewed', 'INTEGER', 'NULLABLE', None, ()), SchemaField('measurableAdsViewed', 'INTEGER', 'NULLABLE', None, ()), SchemaField('adsPagesViewed', 'INTEGER', 'NULLABLE', None, ()), SchemaField('adsClicked', 'INTEGER', 'NULLABLE', None, ()), SchemaField('adsRevenue', 'INTEGER', 'NULLABLE', None, ()), SchemaField('dfpAdGroup', 'STRING', 'NULLABLE', None, ()), SchemaField('dfpAdUnits', 'STRING', 'NULLABLE', None, ()), SchemaField('dfpNetworkId', 'STRING', 'NULLABLE', None, ()))), SchemaField('customVariables', 'RECORD', 'REPEATED', None, (SchemaField('index', 'INTEGER', 'NULLABLE', None, ()), SchemaField('customVarName', 'STRING', 'NULLABLE', None, ()), SchemaField('customVarValue', 'STRING', 'NULLABLE', None, ()))), SchemaField('customDimensions', 'RECORD', 'REPEATED', None, (SchemaField('index', 'INTEGER', 'NULLABLE', None, ()), SchemaField('value', 'STRING', 'NULLABLE', None, ()))), SchemaField('customMetrics', 'RECORD', 'REPEATED', None, (SchemaField('index', 'INTEGER', 'NULLABLE', None, ()), SchemaField('value', 'INTEGER', 'NULLABLE', None, ()))), SchemaField('type', 'STRING', 'NULLABLE', None, ()), SchemaField('social', 'RECORD', 'NULLABLE', None, (SchemaField('socialInteractionNetwork', 'STRING', 'NULLABLE', None, ()), SchemaField('socialInteractionAction', 'STRING', 'NULLABLE', None, ()), SchemaField('socialInteractions', 'INTEGER', 'NULLABLE', None, ()), SchemaField('socialInteractionTarget', 'STRING', 'NULLABLE', None, ()), SchemaField('socialNetwork', 'STRING', 'NULLABLE', None, ()), SchemaField('uniqueSocialInteractions', 'INTEGER', 'NULLABLE', None, ()), SchemaField('hasSocialSourceReferral', 'STRING', 'NULLABLE', None, ()), SchemaField('socialInteractionNetworkAction', 'STRING', 'NULLABLE', None, ()))), SchemaField('latencyTracking', 'RECORD', 'NULLABLE', None, (SchemaField('pageLoadSample', 'INTEGER', 'NULLABLE', None, ()), SchemaField('pageLoadTime', 'INTEGER', 'NULLABLE', None, ()), SchemaField('pageDownloadTime', 'INTEGER', 'NULLABLE', None, ()), SchemaField('redirectionTime', 'INTEGER', 'NULLABLE', None, ()), SchemaField('speedMetricsSample', 'INTEGER', 'NULLABLE', None, ()), SchemaField('domainLookupTime', 'INTEGER', 'NULLABLE', None, ()), SchemaField('serverConnectionTime', 'INTEGER', 'NULLABLE', None, ()), SchemaField('serverResponseTime', 'INTEGER', 'NULLABLE', None, ()), SchemaField('domLatencyMetricsSample', 'INTEGER', 'NULLABLE', None, ()), SchemaField('domInteractiveTime', 'INTEGER', 'NULLABLE', None, ()), SchemaField('domContentLoadedTime', 'INTEGER', 'NULLABLE', None, ()), SchemaField('userTimingValue', 'INTEGER', 'NULLABLE', None, ()), SchemaField('userTimingSample', 'INTEGER', 'NULLABLE', None, ()), SchemaField('userTimingVariable', 'STRING', 'NULLABLE', None, ()), SchemaField('userTimingCategory', 'STRING', 'NULLABLE', None, ()), SchemaField('userTimingLabel', 'STRING', 'NULLABLE', None, ()))), SchemaField('sourcePropertyInfo', 'RECORD', 'NULLABLE', None, (SchemaField('sourcePropertyDisplayName', 'STRING', 'NULLABLE', None, ()), SchemaField('sourcePropertyTrackingId', 'STRING', 'NULLABLE', None, ()))), SchemaField('contentGroup', 'RECORD', 'NULLABLE', None, (SchemaField('contentGroup1', 'STRING', 'NULLABLE', None, ()), SchemaField('contentGroup2', 'STRING', 'NULLABLE', None, ()), SchemaField('contentGroup3', 'STRING', 'NULLABLE', None, ()), SchemaField('contentGroup4', 'STRING', 'NULLABLE', None, ()), SchemaField('contentGroup5', 'STRING', 'NULLABLE', None, ()), SchemaField('previousContentGroup1', 'STRING', 'NULLABLE', None, ()), SchemaField('previousContentGroup2', 'STRING', 'NULLABLE', None, ()), SchemaField('previousContentGroup3', 'STRING', 'NULLABLE', None, ()), SchemaField('previousContentGroup4', 'STRING', 'NULLABLE', None, ()), SchemaField('previousContentGroup5', 'STRING', 'NULLABLE', None, ()), SchemaField('contentGroupUniqueViews1', 'INTEGER', 'NULLABLE', None, ()), SchemaField('contentGroupUniqueViews2', 'INTEGER', 'NULLABLE', None, ()), SchemaField('contentGroupUniqueViews3', 'INTEGER', 'NULLABLE', None, ()), SchemaField('contentGroupUniqueViews4', 'INTEGER', 'NULLABLE', None, ()), SchemaField('contentGroupUniqueViews5', 'INTEGER', 'NULLABLE', None, ()))), SchemaField('dataSource', 'STRING', 'NULLABLE', None, ()), SchemaField('publisher_infos', 'RECORD', 'REPEATED', None, (SchemaField('dfpClicks', 'INTEGER', 'NULLABLE', None, ()), SchemaField('dfpImpressions', 'INTEGER', 'NULLABLE', None, ()), SchemaField('dfpMatchedQueries', 'INTEGER', 'NULLABLE', None, ()), SchemaField('dfpMeasurableImpressions', 'INTEGER', 'NULLABLE', None, ()), SchemaField('dfpQueries', 'INTEGER', 'NULLABLE', None, ()), SchemaField('dfpRevenueCpm', 'INTEGER', 'NULLABLE', None, ()), SchemaField('dfpRevenueCpc', 'INTEGER', 'NULLABLE', None, ()), SchemaField('dfpViewableImpressions', 'INTEGER', 'NULLABLE', None, ()), SchemaField('dfpPagesViewed', 'INTEGER', 'NULLABLE', None, ()), SchemaField('adsenseBackfillDfpClicks', 'INTEGER', 'NULLABLE', None, ()), SchemaField('adsenseBackfillDfpImpressions', 'INTEGER', 'NULLABLE', None, ()), SchemaField('adsenseBackfillDfpMatchedQueries', 'INTEGER', 'NULLABLE', None, ()), SchemaField('adsenseBackfillDfpMeasurableImpressions', 'INTEGER', 'NULLABLE', None, ()), SchemaField('adsenseBackfillDfpQueries', 'INTEGER', 'NULLABLE', None, ()), SchemaField('adsenseBackfillDfpRevenueCpm', 'INTEGER', 'NULLABLE', None, ()), SchemaField('adsenseBackfillDfpRevenueCpc', 'INTEGER', 'NULLABLE', None, ()), SchemaField('adsenseBackfillDfpViewableImpressions', 'INTEGER', 'NULLABLE', None, ()), SchemaField('adsenseBackfillDfpPagesViewed', 'INTEGER', 'NULLABLE', None, ()), SchemaField('adxBackfillDfpClicks', 'INTEGER', 'NULLABLE', None, ()), SchemaField('adxBackfillDfpImpressions', 'INTEGER', 'NULLABLE', None, ()), SchemaField('adxBackfillDfpMatchedQueries', 'INTEGER', 'NULLABLE', None, ()), SchemaField('adxBackfillDfpMeasurableImpressions', 'INTEGER', 'NULLABLE', None, ()), SchemaField('adxBackfillDfpQueries', 'INTEGER', 'NULLABLE', None, ()), SchemaField('adxBackfillDfpRevenueCpm', 'INTEGER', 'NULLABLE', None, ()), SchemaField('adxBackfillDfpRevenueCpc', 'INTEGER', 'NULLABLE', None, ()), SchemaField('adxBackfillDfpViewableImpressions', 'INTEGER', 'NULLABLE', None, ()), SchemaField('adxBackfillDfpPagesViewed', 'INTEGER', 'NULLABLE', None, ()), SchemaField('adxClicks', 'INTEGER', 'NULLABLE', None, ()), SchemaField('adxImpressions', 'INTEGER', 'NULLABLE', None, ()), SchemaField('adxMatchedQueries', 'INTEGER', 'NULLABLE', None, ()), SchemaField('adxMeasurableImpressions', 'INTEGER', 'NULLABLE', None, ()), SchemaField('adxQueries', 'INTEGER', 'NULLABLE', None, ()), SchemaField('adxRevenue', 'INTEGER', 'NULLABLE', None, ()), SchemaField('adxViewableImpressions', 'INTEGER', 'NULLABLE', None, ()), SchemaField('adxPagesViewed', 'INTEGER', 'NULLABLE', None, ()), SchemaField('adsViewed', 'INTEGER', 'NULLABLE', None, ()), SchemaField('adsUnitsViewed', 'INTEGER', 'NULLABLE', None, ()), SchemaField('adsUnitsMatched', 'INTEGER', 'NULLABLE', None, ()), SchemaField('viewableAdsViewed', 'INTEGER', 'NULLABLE', None, ()), SchemaField('measurableAdsViewed', 'INTEGER', 'NULLABLE', None, ()), SchemaField('adsPagesViewed', 'INTEGER', 'NULLABLE', None, ()), SchemaField('adsClicked', 'INTEGER', 'NULLABLE', None, ()), SchemaField('adsRevenue', 'INTEGER', 'NULLABLE', None, ()), SchemaField('dfpAdGroup', 'STRING', 'NULLABLE', None, ()), SchemaField('dfpAdUnits', 'STRING', 'NULLABLE', None, ()), SchemaField('dfpNetworkId', 'STRING', 'NULLABLE', None, ()))))),\n SchemaField('fullVisitorId', 'STRING', 'NULLABLE', None, ()),\n SchemaField('userId', 'STRING', 'NULLABLE', None, ()),\n SchemaField('channelGrouping', 'STRING', 'NULLABLE', None, ()),\n SchemaField('socialEngagementType', 'STRING', 'NULLABLE', None, ())]"
          },
          "metadata": {}
        }
      ]
    },
    {
      "metadata": {
        "_uuid": "a2110cd51fe44dd0813e4419360f0f07cff79e49"
      },
      "cell_type": "markdown",
      "source": "## Queries"
    },
    {
      "metadata": {
        "_uuid": "16ebb176e50c6f1318ec9b717fce46f9caaba310"
      },
      "cell_type": "markdown",
      "source": "### Total Size of All Data\nFirst, I'll find the size of the entire table in Gigabytes by using a funciton native to the bq_helper package"
    },
    {
      "metadata": {
        "trusted": true,
        "_uuid": "49fa68a438c66ec1d9e729fd6897cb4243527c81",
        "scrolled": true
      },
      "cell_type": "code",
      "source": "# Determine Total Datasize\nquery_everything = \"\"\"\n#standardSQL\nSELECT *\nFROM \n    # enclose table names with WILDCARDS in backticks `` , not quotes ''\n    `bigquery-public-data.google_analytics_sample.ga_sessions_*`\nWHERE\n    _TABLE_SUFFIX < '20170802'\n\"\"\"\ngoogle_analytics.estimate_query_size(query_everything)",
      "execution_count": 4,
      "outputs": [
        {
          "output_type": "execute_result",
          "execution_count": 4,
          "data": {
            "text/plain": "5.370753524824977"
          },
          "metadata": {}
        }
      ]
    },
    {
      "metadata": {
        "_uuid": "f9e80db272a94acef3f910b50dd6226c96a8db7d"
      },
      "cell_type": "markdown",
      "source": "### Select 1 table\n\n1. Start by esimtating the query size\n2. If query size is acceptable, save as data frame"
    },
    {
      "metadata": {
        "_uuid": "1e8332d5522349683262db9147f049e165e16dc0",
        "trusted": true
      },
      "cell_type": "code",
      "source": "query_oneTable = \"\"\"\n#standardSQL\nSELECT *\nFROM \n    # enclose table names with WILDCARDS in backticks `` , not quotes ''\n    `bigquery-public-data.google_analytics_sample.ga_sessions_20160801`\n\"\"\"\ngoogle_analytics.estimate_query_size(query_oneTable)",
      "execution_count": 5,
      "outputs": [
        {
          "output_type": "execute_result",
          "execution_count": 5,
          "data": {
            "text/plain": "0.01855206210166216"
          },
          "metadata": {}
        }
      ]
    },
    {
      "metadata": {
        "trusted": true,
        "scrolled": true,
        "_uuid": "0bc22d95bca037752dbc9073ed0ff1a8d4656dea"
      },
      "cell_type": "code",
      "source": "oneTable = google_analytics.query_to_pandas_safe(query_oneTable, max_gb_scanned=.1)\noneTable.head(3)",
      "execution_count": 6,
      "outputs": [
        {
          "output_type": "execute_result",
          "execution_count": 6,
          "data": {
            "text/plain": "  visitorId          ...           socialEngagementType\n0      None          ...           Not Socially Engaged\n1      None          ...           Not Socially Engaged\n2      None          ...           Not Socially Engaged\n\n[3 rows x 15 columns]",
            "text/html": "<div>\n<style scoped>\n    .dataframe tbody tr th:only-of-type {\n        vertical-align: middle;\n    }\n\n    .dataframe tbody tr th {\n        vertical-align: top;\n    }\n\n    .dataframe thead th {\n        text-align: right;\n    }\n</style>\n<table border=\"1\" class=\"dataframe\">\n  <thead>\n    <tr style=\"text-align: right;\">\n      <th></th>\n      <th>visitorId</th>\n      <th>visitNumber</th>\n      <th>visitId</th>\n      <th>visitStartTime</th>\n      <th>date</th>\n      <th>totals</th>\n      <th>trafficSource</th>\n      <th>device</th>\n      <th>geoNetwork</th>\n      <th>customDimensions</th>\n      <th>hits</th>\n      <th>fullVisitorId</th>\n      <th>userId</th>\n      <th>channelGrouping</th>\n      <th>socialEngagementType</th>\n    </tr>\n  </thead>\n  <tbody>\n    <tr>\n      <th>0</th>\n      <td>None</td>\n      <td>1</td>\n      <td>1470117657</td>\n      <td>1470117657</td>\n      <td>20160801</td>\n      <td>{'visits': 1, 'hits': 3, 'pageviews': 3, 'time...</td>\n      <td>{'referralPath': '/yt/about/', 'campaign': '(n...</td>\n      <td>{'browser': 'Internet Explorer', 'browserVersi...</td>\n      <td>{'continent': 'Americas', 'subContinent': 'Nor...</td>\n      <td>[{'index': 4, 'value': 'North America'}]</td>\n      <td>[{'hitNumber': 1, 'time': 0, 'hour': 23, 'minu...</td>\n      <td>7194065619159478122</td>\n      <td>None</td>\n      <td>Social</td>\n      <td>Not Socially Engaged</td>\n    </tr>\n    <tr>\n      <th>1</th>\n      <td>None</td>\n      <td>151</td>\n      <td>1470083489</td>\n      <td>1470083489</td>\n      <td>20160801</td>\n      <td>{'visits': 1, 'hits': 3, 'pageviews': 3, 'time...</td>\n      <td>{'referralPath': '/yt/about/', 'campaign': '(n...</td>\n      <td>{'browser': 'Chrome', 'browserVersion': 'not a...</td>\n      <td>{'continent': 'Americas', 'subContinent': 'Nor...</td>\n      <td>[{'index': 4, 'value': 'North America'}]</td>\n      <td>[{'hitNumber': 1, 'time': 0, 'hour': 13, 'minu...</td>\n      <td>8159312408158297118</td>\n      <td>None</td>\n      <td>Social</td>\n      <td>Not Socially Engaged</td>\n    </tr>\n    <tr>\n      <th>2</th>\n      <td>None</td>\n      <td>1</td>\n      <td>1470052694</td>\n      <td>1470052694</td>\n      <td>20160801</td>\n      <td>{'visits': 1, 'hits': 4, 'pageviews': 3, 'time...</td>\n      <td>{'referralPath': '/yt/about/', 'campaign': '(n...</td>\n      <td>{'browser': 'Chrome', 'browserVersion': 'not a...</td>\n      <td>{'continent': 'Asia', 'subContinent': 'Southea...</td>\n      <td>[]</td>\n      <td>[{'hitNumber': 1, 'time': 0, 'hour': 4, 'minut...</td>\n      <td>9236304747882138291</td>\n      <td>None</td>\n      <td>Social</td>\n      <td>Not Socially Engaged</td>\n    </tr>\n  </tbody>\n</table>\n</div>"
          },
          "metadata": {}
        }
      ]
    },
    {
      "metadata": {
        "trusted": true,
        "_uuid": "9ddb50076d113cabcb68f7b16367c35aaefbf3cd"
      },
      "cell_type": "code",
      "source": "print(oneTable.shape, oneTable.columns)",
      "execution_count": 7,
      "outputs": [
        {
          "output_type": "stream",
          "text": "(1711, 15) Index(['visitorId', 'visitNumber', 'visitId', 'visitStartTime', 'date',\n       'totals', 'trafficSource', 'device', 'geoNetwork', 'customDimensions',\n       'hits', 'fullVisitorId', 'userId', 'channelGrouping',\n       'socialEngagementType'],\n      dtype='object')\n",
          "name": "stdout"
        }
      ]
    },
    {
      "metadata": {
        "_uuid": "48abc6563ab278251936134e0a38e383e4379f0d"
      },
      "cell_type": "markdown",
      "source": "### Examine Column Names"
    },
    {
      "metadata": {
        "trusted": true,
        "scrolled": true,
        "_uuid": "d3c5a05b1ab9a6255473d601615d13b9cf734dd0"
      },
      "cell_type": "code",
      "source": "for col in oneTable.columns:\n    print(col, \": \", type(oneTable[col][0]))\n    print(oneTable[col][0])\n    #print(oneTable[col])\n    ",
      "execution_count": 8,
      "outputs": [
        {
          "output_type": "stream",
          "text": "visitorId :  <class 'NoneType'>\nNone\nvisitNumber :  <class 'numpy.int64'>\n1\nvisitId :  <class 'numpy.int64'>\n1470117657\nvisitStartTime :  <class 'numpy.int64'>\n1470117657\ndate :  <class 'str'>\n20160801\ntotals :  <class 'dict'>\n{'visits': 1, 'hits': 3, 'pageviews': 3, 'timeOnSite': 54, 'bounces': None, 'transactions': None, 'transactionRevenue': None, 'newVisits': 1, 'screenviews': None, 'uniqueScreenviews': None, 'timeOnScreen': None, 'totalTransactionRevenue': None, 'sessionQualityDim': None}\ntrafficSource :  <class 'dict'>\n{'referralPath': '/yt/about/', 'campaign': '(not set)', 'source': 'youtube.com', 'medium': 'referral', 'keyword': None, 'adContent': None, 'adwordsClickInfo': {'campaignId': None, 'adGroupId': None, 'creativeId': None, 'criteriaId': None, 'page': None, 'slot': None, 'criteriaParameters': 'not available in demo dataset', 'gclId': None, 'customerId': None, 'adNetworkType': None, 'targetingCriteria': None, 'isVideoAd': None}, 'isTrueDirect': None, 'campaignCode': None}\ndevice :  <class 'dict'>\n{'browser': 'Internet Explorer', 'browserVersion': 'not available in demo dataset', 'browserSize': 'not available in demo dataset', 'operatingSystem': 'Windows', 'operatingSystemVersion': 'not available in demo dataset', 'isMobile': False, 'mobileDeviceBranding': 'not available in demo dataset', 'mobileDeviceModel': 'not available in demo dataset', 'mobileInputSelector': 'not available in demo dataset', 'mobileDeviceInfo': 'not available in demo dataset', 'mobileDeviceMarketingName': 'not available in demo dataset', 'flashVersion': 'not available in demo dataset', 'javaEnabled': None, 'language': 'not available in demo dataset', 'screenColors': 'not available in demo dataset', 'screenResolution': 'not available in demo dataset', 'deviceCategory': 'desktop'}\ngeoNetwork :  <class 'dict'>\n{'continent': 'Americas', 'subContinent': 'Northern America', 'country': 'United States', 'region': 'not available in demo dataset', 'metro': 'not available in demo dataset', 'city': 'not available in demo dataset', 'cityId': 'not available in demo dataset', 'networkDomain': 'telia.net', 'latitude': 'not available in demo dataset', 'longitude': 'not available in demo dataset', 'networkLocation': 'not available in demo dataset'}\ncustomDimensions :  <class 'list'>\n[{'index': 4, 'value': 'North America'}]\nhits :  <class 'list'>\n[{'hitNumber': 1, 'time': 0, 'hour': 23, 'minute': 0, 'isSecure': None, 'isInteraction': True, 'isEntrance': True, 'isExit': None, 'referer': 'https://www.youtube.com/yt/about/', 'page': {'pagePath': '/home', 'hostname': 'shop.googlemerchandisestore.com', 'pageTitle': 'Home', 'searchKeyword': None, 'searchCategory': None, 'pagePathLevel1': '/home', 'pagePathLevel2': '', 'pagePathLevel3': '', 'pagePathLevel4': ''}, 'transaction': None, 'item': None, 'contentInfo': None, 'appInfo': {'name': None, 'version': None, 'id': None, 'installerId': None, 'appInstallerId': None, 'appName': None, 'appVersion': None, 'appId': None, 'screenName': 'shop.googlemerchandisestore.com/home', 'landingScreenName': 'shop.googlemerchandisestore.com/home', 'exitScreenName': 'shop.googlemerchandisestore.com/signin.html', 'screenDepth': '0'}, 'exceptionInfo': {'description': None, 'isFatal': True, 'exceptions': None, 'fatalExceptions': None}, 'eventInfo': None, 'product': [], 'promotion': [], 'promotionActionInfo': None, 'refund': None, 'eCommerceAction': {'action_type': '0', 'step': 1, 'option': None}, 'experiment': [], 'publisher': None, 'customVariables': [], 'customDimensions': [], 'customMetrics': [], 'type': 'PAGE', 'social': {'socialInteractionNetwork': None, 'socialInteractionAction': None, 'socialInteractions': None, 'socialInteractionTarget': None, 'socialNetwork': 'YouTube', 'uniqueSocialInteractions': None, 'hasSocialSourceReferral': 'Yes', 'socialInteractionNetworkAction': ' : '}, 'latencyTracking': None, 'sourcePropertyInfo': None, 'contentGroup': {'contentGroup1': '(not set)', 'contentGroup2': '(not set)', 'contentGroup3': '(not set)', 'contentGroup4': '(not set)', 'contentGroup5': '(not set)', 'previousContentGroup1': '(entrance)', 'previousContentGroup2': '(entrance)', 'previousContentGroup3': '(entrance)', 'previousContentGroup4': '(entrance)', 'previousContentGroup5': '(entrance)', 'contentGroupUniqueViews1': None, 'contentGroupUniqueViews2': None, 'contentGroupUniqueViews3': None, 'contentGroupUniqueViews4': None, 'contentGroupUniqueViews5': None}, 'dataSource': None, 'publisher_infos': []}, {'hitNumber': 2, 'time': 30507, 'hour': 23, 'minute': 1, 'isSecure': None, 'isInteraction': True, 'isEntrance': None, 'isExit': None, 'referer': None, 'page': {'pagePath': '/google+redesign/gift+cards', 'hostname': 'shop.googlemerchandisestore.com', 'pageTitle': 'Gift Cards', 'searchKeyword': None, 'searchCategory': None, 'pagePathLevel1': '/google+redesign/', 'pagePathLevel2': '/gift+cards', 'pagePathLevel3': '', 'pagePathLevel4': ''}, 'transaction': {'transactionId': None, 'transactionRevenue': None, 'transactionTax': None, 'transactionShipping': None, 'affiliation': None, 'currencyCode': 'USD', 'localTransactionRevenue': None, 'localTransactionTax': None, 'localTransactionShipping': None, 'transactionCoupon': None}, 'item': {'transactionId': None, 'productName': None, 'productCategory': None, 'productSku': None, 'itemQuantity': None, 'itemRevenue': None, 'currencyCode': 'USD', 'localItemRevenue': None}, 'contentInfo': None, 'appInfo': {'name': None, 'version': None, 'id': None, 'installerId': None, 'appInstallerId': None, 'appName': None, 'appVersion': None, 'appId': None, 'screenName': 'shop.googlemerchandisestore.com/google+redesign/gift+cards', 'landingScreenName': 'shop.googlemerchandisestore.com/home', 'exitScreenName': 'shop.googlemerchandisestore.com/signin.html', 'screenDepth': '0'}, 'exceptionInfo': {'description': None, 'isFatal': True, 'exceptions': None, 'fatalExceptions': None}, 'eventInfo': None, 'product': [{'productSKU': 'GGOEGGCX056299', 'v2ProductName': 'Gift Card - $25.00', 'v2ProductCategory': 'Home/Gift Cards/', 'productVariant': '(not set)', 'productBrand': '(not set)', 'productRevenue': None, 'localProductRevenue': None, 'productPrice': 25000000, 'localProductPrice': 25000000, 'productQuantity': None, 'productRefundAmount': None, 'localProductRefundAmount': None, 'isImpression': True, 'isClick': None, 'customDimensions': [], 'customMetrics': [], 'productListName': 'Category', 'productListPosition': 1}, {'productSKU': 'GGOEGGCX056499', 'v2ProductName': 'Gift Card - $50.00', 'v2ProductCategory': 'Home/Gift Cards/', 'productVariant': '(not set)', 'productBrand': '(not set)', 'productRevenue': None, 'localProductRevenue': None, 'productPrice': 50000000, 'localProductPrice': 50000000, 'productQuantity': None, 'productRefundAmount': None, 'localProductRefundAmount': None, 'isImpression': True, 'isClick': None, 'customDimensions': [], 'customMetrics': [], 'productListName': 'Category', 'productListPosition': 2}, {'productSKU': 'GGOEGGCX056199', 'v2ProductName': 'Gift Card- $100.00', 'v2ProductCategory': 'Home/Gift Cards/', 'productVariant': '(not set)', 'productBrand': '(not set)', 'productRevenue': None, 'localProductRevenue': None, 'productPrice': 100000000, 'localProductPrice': 100000000, 'productQuantity': None, 'productRefundAmount': None, 'localProductRefundAmount': None, 'isImpression': True, 'isClick': None, 'customDimensions': [], 'customMetrics': [], 'productListName': 'Category', 'productListPosition': 3}, {'productSKU': 'GGOEGGCX056399', 'v2ProductName': 'Gift Card - $250.00', 'v2ProductCategory': 'Home/Gift Cards/', 'productVariant': '(not set)', 'productBrand': '(not set)', 'productRevenue': None, 'localProductRevenue': None, 'productPrice': 250000000, 'localProductPrice': 250000000, 'productQuantity': None, 'productRefundAmount': None, 'localProductRefundAmount': None, 'isImpression': True, 'isClick': None, 'customDimensions': [], 'customMetrics': [], 'productListName': 'Category', 'productListPosition': 4}], 'promotion': [], 'promotionActionInfo': None, 'refund': None, 'eCommerceAction': {'action_type': '0', 'step': 1, 'option': None}, 'experiment': [], 'publisher': None, 'customVariables': [], 'customDimensions': [], 'customMetrics': [], 'type': 'PAGE', 'social': {'socialInteractionNetwork': None, 'socialInteractionAction': None, 'socialInteractions': None, 'socialInteractionTarget': None, 'socialNetwork': 'YouTube', 'uniqueSocialInteractions': None, 'hasSocialSourceReferral': 'Yes', 'socialInteractionNetworkAction': ' : '}, 'latencyTracking': None, 'sourcePropertyInfo': None, 'contentGroup': {'contentGroup1': '(not set)', 'contentGroup2': '(not set)', 'contentGroup3': '(not set)', 'contentGroup4': '(not set)', 'contentGroup5': '(not set)', 'previousContentGroup1': '(not set)', 'previousContentGroup2': '(not set)', 'previousContentGroup3': '(not set)', 'previousContentGroup4': '(not set)', 'previousContentGroup5': '(not set)', 'contentGroupUniqueViews1': None, 'contentGroupUniqueViews2': None, 'contentGroupUniqueViews3': None, 'contentGroupUniqueViews4': None, 'contentGroupUniqueViews5': None}, 'dataSource': None, 'publisher_infos': []}, {'hitNumber': 3, 'time': 53670, 'hour': 23, 'minute': 1, 'isSecure': None, 'isInteraction': True, 'isEntrance': None, 'isExit': True, 'referer': None, 'page': {'pagePath': '/signin.html', 'hostname': 'shop.googlemerchandisestore.com', 'pageTitle': 'The Google Merchandise Store - Log In', 'searchKeyword': None, 'searchCategory': None, 'pagePathLevel1': '/signin.html', 'pagePathLevel2': '', 'pagePathLevel3': '', 'pagePathLevel4': ''}, 'transaction': None, 'item': None, 'contentInfo': None, 'appInfo': {'name': None, 'version': None, 'id': None, 'installerId': None, 'appInstallerId': None, 'appName': None, 'appVersion': None, 'appId': None, 'screenName': 'shop.googlemerchandisestore.com/signin.html', 'landingScreenName': 'shop.googlemerchandisestore.com/home', 'exitScreenName': 'shop.googlemerchandisestore.com/signin.html', 'screenDepth': '0'}, 'exceptionInfo': {'description': None, 'isFatal': True, 'exceptions': None, 'fatalExceptions': None}, 'eventInfo': None, 'product': [], 'promotion': [], 'promotionActionInfo': None, 'refund': None, 'eCommerceAction': {'action_type': '0', 'step': 1, 'option': None}, 'experiment': [], 'publisher': None, 'customVariables': [], 'customDimensions': [], 'customMetrics': [], 'type': 'PAGE', 'social': {'socialInteractionNetwork': None, 'socialInteractionAction': None, 'socialInteractions': None, 'socialInteractionTarget': None, 'socialNetwork': 'YouTube', 'uniqueSocialInteractions': None, 'hasSocialSourceReferral': 'Yes', 'socialInteractionNetworkAction': ' : '}, 'latencyTracking': None, 'sourcePropertyInfo': None, 'contentGroup': {'contentGroup1': '(not set)', 'contentGroup2': '(not set)', 'contentGroup3': '(not set)', 'contentGroup4': '(not set)', 'contentGroup5': '(not set)', 'previousContentGroup1': '(not set)', 'previousContentGroup2': '(not set)', 'previousContentGroup3': '(not set)', 'previousContentGroup4': '(not set)', 'previousContentGroup5': '(not set)', 'contentGroupUniqueViews1': None, 'contentGroupUniqueViews2': None, 'contentGroupUniqueViews3': None, 'contentGroupUniqueViews4': None, 'contentGroupUniqueViews5': None}, 'dataSource': None, 'publisher_infos': []}]\nfullVisitorId :  <class 'str'>\n7194065619159478122\nuserId :  <class 'NoneType'>\nNone\nchannelGrouping :  <class 'str'>\nSocial\nsocialEngagementType :  <class 'str'>\nNot Socially Engaged\n",
          "name": "stdout"
        }
      ]
    },
    {
      "metadata": {
        "_uuid": "5ab5cf43f312e3d29ea2a63a2454cc61fed1ed12"
      },
      "cell_type": "markdown",
      "source": "## Test writing to CSV"
    },
    {
      "metadata": {
        "trusted": true,
        "_uuid": "a505d1b04531172d735e20984d93f69c0f125021",
        "collapsed": true
      },
      "cell_type": "code",
      "source": "# myfilepath = \"C:/Users/Jusitn/Documents/Python Scripts/DataMining2\"\noneTable.to_csv(\"20160801.csv\", encoding='utf-8', index=False)",
      "execution_count": 9,
      "outputs": []
    },
    {
      "metadata": {
        "_uuid": "d6dd9ee2c0d3564381dafc768a5d7979099dca22"
      },
      "cell_type": "markdown",
      "source": "## Test Reading from CSV\n**Important Note:** after perfomring the 'Test writing to CSV', I had to click on the 'Data' tab in the Kernel, look at the left hand column, and add my own kernel as a data source so that i could see the CSV files in my directory.\nTHEN, be sure to select the table and click \"download\""
    },
    {
      "metadata": {
        "trusted": true,
        "scrolled": false,
        "_uuid": "764a0b522da057c07bdf65fc2e8d17a7d9995d76",
        "collapsed": true
      },
      "cell_type": "code",
      "source": "import pandas as pd\ngoogledata = pd.read_csv('../input/20160801.csv')\n#DOES NOT WORK:  pd.read_csv('../input/data-mining-2-project-in-python/20160801.csv')",
      "execution_count": 10,
      "outputs": []
    },
    {
      "metadata": {
        "trusted": true,
        "scrolled": true,
        "_uuid": "5a3d228b0aa308ef2ef83546297d6dab7e5af575"
      },
      "cell_type": "code",
      "source": "googledata.head(1)",
      "execution_count": null,
      "outputs": [
        {
          "output_type": "execute_result",
          "execution_count": 11,
          "data": {
            "text/plain": "   visitorId          ...           socialEngagementType\n0        NaN          ...           Not Socially Engaged\n\n[1 rows x 15 columns]",
            "text/html": "<div>\n<style scoped>\n    .dataframe tbody tr th:only-of-type {\n        vertical-align: middle;\n    }\n\n    .dataframe tbody tr th {\n        vertical-align: top;\n    }\n\n    .dataframe thead th {\n        text-align: right;\n    }\n</style>\n<table border=\"1\" class=\"dataframe\">\n  <thead>\n    <tr style=\"text-align: right;\">\n      <th></th>\n      <th>visitorId</th>\n      <th>visitNumber</th>\n      <th>visitId</th>\n      <th>visitStartTime</th>\n      <th>date</th>\n      <th>totals</th>\n      <th>trafficSource</th>\n      <th>device</th>\n      <th>geoNetwork</th>\n      <th>customDimensions</th>\n      <th>hits</th>\n      <th>fullVisitorId</th>\n      <th>userId</th>\n      <th>channelGrouping</th>\n      <th>socialEngagementType</th>\n    </tr>\n  </thead>\n  <tbody>\n    <tr>\n      <th>0</th>\n      <td>NaN</td>\n      <td>1</td>\n      <td>1470046245</td>\n      <td>1470046245</td>\n      <td>20160801</td>\n      <td>{'visits': 1, 'hits': 24, 'pageviews': 17, 'ti...</td>\n      <td>{'referralPath': None, 'campaign': '(not set)'...</td>\n      <td>{'browser': 'Firefox', 'browserVersion': 'not ...</td>\n      <td>{'continent': 'Europe', 'subContinent': 'Weste...</td>\n      <td>[{'index': 4, 'value': 'EMEA'}]</td>\n      <td>[{'hitNumber': 1, 'time': 0, 'hour': 3, 'minut...</td>\n      <td>895954260133011192</td>\n      <td>NaN</td>\n      <td>Organic Search</td>\n      <td>Not Socially Engaged</td>\n    </tr>\n  </tbody>\n</table>\n</div>"
          },
          "metadata": {}
        }
      ]
    },
    {
      "metadata": {
        "trusted": true,
        "_uuid": "57f566ba15f34a61cd9a575867a1b7dfddee245e",
        "collapsed": true
      },
      "cell_type": "code",
      "source": "for col in googledata.columns:\n    print(col, \": \", type(googledata[col][0]))\n    print(googledata[col][0])\n    #print(oneTable[col])",
      "execution_count": null,
      "outputs": []
    },
    {
      "metadata": {
        "_uuid": "41e31c84a7ec886a6277f6a285ea81331f0a0b00"
      },
      "cell_type": "markdown",
      "source": "The above data "
    },
    {
      "metadata": {
        "_uuid": "10cbe2fe3acaf175e4e0b07a4d47cb21bffb74a8",
        "trusted": true,
        "scrolled": true,
        "collapsed": true
      },
      "cell_type": "code",
      "source": "googledata['trafficSource'][0]",
      "execution_count": null,
      "outputs": []
    },
    {
      "metadata": {
        "_uuid": "8eeda9ae334f9bc0dc313635abee9c9c0d582f6c",
        "_cell_guid": "ec2e26b9-885e-4f12-8d20-2f8c494d6f3e"
      },
      "cell_type": "markdown",
      "source": "# Example Queries\n\nWhat is the total number of transactions generated per device browser in July 2017?"
    },
    {
      "metadata": {
        "_uuid": "f498dd0e54911bf273ae4a76fd6a2bdaebf96f15",
        "_cell_guid": "ab7c4d65-3cc2-4192-992c-b030c33b2010",
        "trusted": true,
        "collapsed": true
      },
      "cell_type": "markdown",
      "source": "query1 = \"\"\"SELECT\ndevice.browser,\nSUM ( totals.transactions ) AS total_transactions\nFROM `bigquery-public-data.google_analytics_sample.ga_sessions_*`\nWHERE\n_TABLE_SUFFIX BETWEEN '20160801' AND '20170801'\nGROUP BY\ndevice.browser\nORDER BY\ntotal_transactions DESC;\n        \"\"\"\ngoogle_analytics.estimate_query_size(query1)\n#response1 = google_analytics.query_to_pandas_safe(query1)\n#response1.head(10)\n"
    },
    {
      "metadata": {
        "_uuid": "ef06f0f96cdffd2af224c796a423304f914d7da9",
        "_cell_guid": "e53dbcf0-eaba-474f-b83c-fa7fc5e69a81"
      },
      "cell_type": "markdown",
      "source": "The real bounce rate is defined as the percentage of visits with a single pageview. What was the real bounce rate per traffic source?"
    },
    {
      "metadata": {
        "_uuid": "77d0841a15c7675c6e2506e02762ed6892629d59",
        "_cell_guid": "f9ea65cb-a34a-4e54-b7dd-8eb964aba953",
        "trusted": true,
        "collapsed": true
      },
      "cell_type": "markdown",
      "source": "query2 = \"\"\"SELECT\nsource,\ntotal_visits,\ntotal_no_of_bounces,\n( ( total_no_of_bounces / total_visits ) * 100 ) AS bounce_rate\nFROM (\nSELECT\ntrafficSource.source AS source,\nCOUNT ( trafficSource.source ) AS total_visits,\nSUM ( totals.bounces ) AS total_no_of_bounces\nFROM `bigquery-public-data.google_analytics_sample.ga_sessions_*`\nWHERE\n_TABLE_SUFFIX BETWEEN '20170701' AND '20170731'\nGROUP BY\nsource )\nORDER BY\ntotal_visits DESC;\n        \"\"\"\nresponse2 = google_analytics.query_to_pandas_safe(query2)\nresponse2.head(10)"
    },
    {
      "metadata": {
        "_uuid": "a6ebb013cab63d0cdfe6d143cf73c4fab12100a0",
        "_cell_guid": "83b06213-432d-4d7e-ac24-bef63386acc4"
      },
      "cell_type": "markdown",
      "source": "What is the average amount of money spent per session in July 2017?"
    },
    {
      "metadata": {
        "_uuid": "ca77a41314f8135fa09786d8b974a3e9ac4c142f",
        "_cell_guid": "a6326acc-a8f9-4ff4-917f-785bda6ce23e",
        "trusted": true,
        "collapsed": true,
        "_kg_hide-input": false
      },
      "cell_type": "markdown",
      "source": "query6 = \"\"\"SELECT\n( SUM(total_transactionrevenue_per_user) / SUM(total_visits_per_user) ) AS\navg_revenue_by_user_per_visit\nFROM (\nSELECT\nfullVisitorId,\nSUM( totals.visits ) AS total_visits_per_user,\nSUM( totals.transactionRevenue ) AS total_transactionrevenue_per_user\nFROM\n`bigquery-public-data.google_analytics_sample.ga_sessions_*`\nWHERE\n_TABLE_SUFFIX BETWEEN '20170701' AND '20170731'\nAND\ntotals.visits > 0\nAND totals.transactions >= 1\nAND totals.transactionRevenue IS NOT NULL\nGROUP BY\nfullVisitorId );\n        \"\"\"\nresponse6 = google_analytics.query_to_pandas_safe(query6, max_gb_scanned=10)\nresponse6.head(10)"
    },
    {
      "metadata": {
        "_uuid": "450d392be87f17bcf55e86d2ee1c42f6b24d539d",
        "_cell_guid": "87ba4e16-08e7-4325-b0ab-e35a0cf07479",
        "collapsed": true,
        "trusted": false
      },
      "cell_type": "markdown",
      "source": "What is the sequence of pages viewed?"
    },
    {
      "metadata": {
        "trusted": true,
        "_uuid": "30b967c7aeaf7374889eb67dc506cf46ed3da0e7",
        "collapsed": true
      },
      "cell_type": "markdown",
      "source": "query7 = \"\"\"SELECT\nfullVisitorId,\nvisitId,\nvisitNumber,\nhits.hitNumber AS hitNumber,\nhits.page.pagePath AS pagePath\nFROM\n`bigquery-public-data.google_analytics_sample.ga_sessions_*`,\nUNNEST(hits) as hits\nWHERE\n_TABLE_SUFFIX BETWEEN '20170701' AND '20170731'\nAND\nhits.type=\"PAGE\"\nORDER BY\nfullVisitorId,\nvisitId,\nvisitNumber,\nhitNumber;\n        \"\"\"\nresponse7 = google_analytics.query_to_pandas_safe(query7, max_gb_scanned=10)\nresponse7.head(10)"
    },
    {
      "metadata": {
        "_uuid": "b79f5f5b997168585b09193b95df4c99d2b1afe8",
        "_cell_guid": "bdb6e0e4-619a-43fd-954f-919f93cbc2d5",
        "collapsed": true,
        "trusted": true
      },
      "cell_type": "code",
      "source": "",
      "execution_count": null,
      "outputs": []
    }
  ],
  "metadata": {
    "kernelspec": {
      "display_name": "Python 3",
      "language": "python",
      "name": "python3"
    },
    "language_info": {
      "name": "python",
      "version": "3.6.5",
      "mimetype": "text/x-python",
      "codemirror_mode": {
        "name": "ipython",
        "version": 3
      },
      "pygments_lexer": "ipython3",
      "nbconvert_exporter": "python",
      "file_extension": ".py"
    }
  },
  "nbformat": 4,
  "nbformat_minor": 1
}